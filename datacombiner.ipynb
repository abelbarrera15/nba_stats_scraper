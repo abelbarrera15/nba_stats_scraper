{
 "metadata": {
  "language_info": {
   "codemirror_mode": {
    "name": "ipython",
    "version": 3
   },
   "file_extension": ".py",
   "mimetype": "text/x-python",
   "name": "python",
   "nbconvert_exporter": "python",
   "pygments_lexer": "ipython3",
   "version": "3.8.7-final"
  },
  "orig_nbformat": 2,
  "kernelspec": {
   "name": "python3",
   "display_name": "Python 3.8.7 64-bit",
   "metadata": {
    "interpreter": {
     "hash": "7e85ec9bf098c5427e45e2f632dcd4eeff803b007e1abd287d600879388709c1"
    }
   }
  }
 },
 "nbformat": 4,
 "nbformat_minor": 2,
 "cells": [
  {
   "cell_type": "code",
   "execution_count": 1,
   "metadata": {},
   "outputs": [],
   "source": [
    "import pandas as pd"
   ]
  },
  {
   "cell_type": "code",
   "execution_count": 7,
   "metadata": {},
   "outputs": [],
   "source": [
    "travel_data = pd.read_csv('./nba_stats.csv',sep='|')\n",
    "injury_data = pd.read_csv('./injuries_2010-2020.csv',sep=',')\n",
    "injury_list = injury_data.to_dict(orient='records')"
   ]
  },
  {
   "cell_type": "code",
   "execution_count": 4,
   "metadata": {},
   "outputs": [
    {
     "output_type": "execute_result",
     "data": {
      "text/plain": [
       "    Season     PlayerTeam    GP     W     L   Min  DistFeet  DistMiles  \\\n",
       "0  2020-21   Aaron Gordon  25.0  10.0  15.0  29.4   11236.0       2.13   \n",
       "1  2020-21  Aaron Holiday  42.0  19.0  23.0  17.6    7257.8       1.37   \n",
       "2  2020-21  Aaron Nesmith  23.0  12.0  11.0  15.2    6219.1       1.18   \n",
       "3  2020-21    Abdel Nader  24.0  16.0   8.0  14.8    6038.0       1.14   \n",
       "4  2020-21    Adam Mokoka   9.0   2.0   7.0   5.2    2104.7       0.40   \n",
       "\n",
       "   DistMilesOff  DistMilesDef  AvgSpeed  AvgSpeedOff  AvgSpeedDef  \n",
       "0          1.19          0.94      4.10         4.50         3.68  \n",
       "1          0.70          0.67      4.35         4.61         4.11  \n",
       "2          0.61          0.57      4.30         4.47         4.14  \n",
       "3          0.62          0.53      4.41         4.75         4.10  \n",
       "4          0.20          0.20      4.29         4.49         4.10  "
      ],
      "text/html": "<div>\n<style scoped>\n    .dataframe tbody tr th:only-of-type {\n        vertical-align: middle;\n    }\n\n    .dataframe tbody tr th {\n        vertical-align: top;\n    }\n\n    .dataframe thead th {\n        text-align: right;\n    }\n</style>\n<table border=\"1\" class=\"dataframe\">\n  <thead>\n    <tr style=\"text-align: right;\">\n      <th></th>\n      <th>Season</th>\n      <th>PlayerTeam</th>\n      <th>GP</th>\n      <th>W</th>\n      <th>L</th>\n      <th>Min</th>\n      <th>DistFeet</th>\n      <th>DistMiles</th>\n      <th>DistMilesOff</th>\n      <th>DistMilesDef</th>\n      <th>AvgSpeed</th>\n      <th>AvgSpeedOff</th>\n      <th>AvgSpeedDef</th>\n    </tr>\n  </thead>\n  <tbody>\n    <tr>\n      <th>0</th>\n      <td>2020-21</td>\n      <td>Aaron Gordon</td>\n      <td>25.0</td>\n      <td>10.0</td>\n      <td>15.0</td>\n      <td>29.4</td>\n      <td>11236.0</td>\n      <td>2.13</td>\n      <td>1.19</td>\n      <td>0.94</td>\n      <td>4.10</td>\n      <td>4.50</td>\n      <td>3.68</td>\n    </tr>\n    <tr>\n      <th>1</th>\n      <td>2020-21</td>\n      <td>Aaron Holiday</td>\n      <td>42.0</td>\n      <td>19.0</td>\n      <td>23.0</td>\n      <td>17.6</td>\n      <td>7257.8</td>\n      <td>1.37</td>\n      <td>0.70</td>\n      <td>0.67</td>\n      <td>4.35</td>\n      <td>4.61</td>\n      <td>4.11</td>\n    </tr>\n    <tr>\n      <th>2</th>\n      <td>2020-21</td>\n      <td>Aaron Nesmith</td>\n      <td>23.0</td>\n      <td>12.0</td>\n      <td>11.0</td>\n      <td>15.2</td>\n      <td>6219.1</td>\n      <td>1.18</td>\n      <td>0.61</td>\n      <td>0.57</td>\n      <td>4.30</td>\n      <td>4.47</td>\n      <td>4.14</td>\n    </tr>\n    <tr>\n      <th>3</th>\n      <td>2020-21</td>\n      <td>Abdel Nader</td>\n      <td>24.0</td>\n      <td>16.0</td>\n      <td>8.0</td>\n      <td>14.8</td>\n      <td>6038.0</td>\n      <td>1.14</td>\n      <td>0.62</td>\n      <td>0.53</td>\n      <td>4.41</td>\n      <td>4.75</td>\n      <td>4.10</td>\n    </tr>\n    <tr>\n      <th>4</th>\n      <td>2020-21</td>\n      <td>Adam Mokoka</td>\n      <td>9.0</td>\n      <td>2.0</td>\n      <td>7.0</td>\n      <td>5.2</td>\n      <td>2104.7</td>\n      <td>0.40</td>\n      <td>0.20</td>\n      <td>0.20</td>\n      <td>4.29</td>\n      <td>4.49</td>\n      <td>4.10</td>\n    </tr>\n  </tbody>\n</table>\n</div>"
     },
     "metadata": {},
     "execution_count": 4
    }
   ],
   "source": [
    "travel_data.head()"
   ]
  },
  {
   "cell_type": "code",
   "execution_count": 37,
   "metadata": {},
   "outputs": [],
   "source": [
    "def injury_counter(row):\n",
    "    cnt = 0\n",
    "    for l in injury_list:\n",
    "        if l['Date'][0:4] == row['Season'][0:4] and str(row['PlayerTeam']).lower().strip() == str(l['Relinquished']).lower().strip():\n",
    "            cnt+= 1 \n",
    "    return cnt"
   ]
  },
  {
   "cell_type": "code",
   "execution_count": 38,
   "metadata": {
    "tags": []
   },
   "outputs": [],
   "source": [
    "travel_data['injuryCntYear'] = travel_data.apply(lambda x: injury_counter(x),axis=1)"
   ]
  },
  {
   "cell_type": "code",
   "execution_count": 39,
   "metadata": {},
   "outputs": [
    {
     "output_type": "execute_result",
     "data": {
      "text/plain": [
       "    Season     PlayerTeam    GP     W     L   Min  DistFeet  DistMiles  \\\n",
       "0  2020-21   Aaron Gordon  25.0  10.0  15.0  29.4   11236.0       2.13   \n",
       "1  2020-21  Aaron Holiday  42.0  19.0  23.0  17.6    7257.8       1.37   \n",
       "2  2020-21  Aaron Nesmith  23.0  12.0  11.0  15.2    6219.1       1.18   \n",
       "3  2020-21    Abdel Nader  24.0  16.0   8.0  14.8    6038.0       1.14   \n",
       "4  2020-21    Adam Mokoka   9.0   2.0   7.0   5.2    2104.7       0.40   \n",
       "\n",
       "   DistMilesOff  DistMilesDef  AvgSpeed  AvgSpeedOff  AvgSpeedDef  \\\n",
       "0          1.19          0.94      4.10         4.50         3.68   \n",
       "1          0.70          0.67      4.35         4.61         4.11   \n",
       "2          0.61          0.57      4.30         4.47         4.14   \n",
       "3          0.62          0.53      4.41         4.75         4.10   \n",
       "4          0.20          0.20      4.29         4.49         4.10   \n",
       "\n",
       "   injuryCntYear  \n",
       "0              3  \n",
       "1              0  \n",
       "2              0  \n",
       "3              3  \n",
       "4              2  "
      ],
      "text/html": "<div>\n<style scoped>\n    .dataframe tbody tr th:only-of-type {\n        vertical-align: middle;\n    }\n\n    .dataframe tbody tr th {\n        vertical-align: top;\n    }\n\n    .dataframe thead th {\n        text-align: right;\n    }\n</style>\n<table border=\"1\" class=\"dataframe\">\n  <thead>\n    <tr style=\"text-align: right;\">\n      <th></th>\n      <th>Season</th>\n      <th>PlayerTeam</th>\n      <th>GP</th>\n      <th>W</th>\n      <th>L</th>\n      <th>Min</th>\n      <th>DistFeet</th>\n      <th>DistMiles</th>\n      <th>DistMilesOff</th>\n      <th>DistMilesDef</th>\n      <th>AvgSpeed</th>\n      <th>AvgSpeedOff</th>\n      <th>AvgSpeedDef</th>\n      <th>injuryCntYear</th>\n    </tr>\n  </thead>\n  <tbody>\n    <tr>\n      <th>0</th>\n      <td>2020-21</td>\n      <td>Aaron Gordon</td>\n      <td>25.0</td>\n      <td>10.0</td>\n      <td>15.0</td>\n      <td>29.4</td>\n      <td>11236.0</td>\n      <td>2.13</td>\n      <td>1.19</td>\n      <td>0.94</td>\n      <td>4.10</td>\n      <td>4.50</td>\n      <td>3.68</td>\n      <td>3</td>\n    </tr>\n    <tr>\n      <th>1</th>\n      <td>2020-21</td>\n      <td>Aaron Holiday</td>\n      <td>42.0</td>\n      <td>19.0</td>\n      <td>23.0</td>\n      <td>17.6</td>\n      <td>7257.8</td>\n      <td>1.37</td>\n      <td>0.70</td>\n      <td>0.67</td>\n      <td>4.35</td>\n      <td>4.61</td>\n      <td>4.11</td>\n      <td>0</td>\n    </tr>\n    <tr>\n      <th>2</th>\n      <td>2020-21</td>\n      <td>Aaron Nesmith</td>\n      <td>23.0</td>\n      <td>12.0</td>\n      <td>11.0</td>\n      <td>15.2</td>\n      <td>6219.1</td>\n      <td>1.18</td>\n      <td>0.61</td>\n      <td>0.57</td>\n      <td>4.30</td>\n      <td>4.47</td>\n      <td>4.14</td>\n      <td>0</td>\n    </tr>\n    <tr>\n      <th>3</th>\n      <td>2020-21</td>\n      <td>Abdel Nader</td>\n      <td>24.0</td>\n      <td>16.0</td>\n      <td>8.0</td>\n      <td>14.8</td>\n      <td>6038.0</td>\n      <td>1.14</td>\n      <td>0.62</td>\n      <td>0.53</td>\n      <td>4.41</td>\n      <td>4.75</td>\n      <td>4.10</td>\n      <td>3</td>\n    </tr>\n    <tr>\n      <th>4</th>\n      <td>2020-21</td>\n      <td>Adam Mokoka</td>\n      <td>9.0</td>\n      <td>2.0</td>\n      <td>7.0</td>\n      <td>5.2</td>\n      <td>2104.7</td>\n      <td>0.40</td>\n      <td>0.20</td>\n      <td>0.20</td>\n      <td>4.29</td>\n      <td>4.49</td>\n      <td>4.10</td>\n      <td>2</td>\n    </tr>\n  </tbody>\n</table>\n</div>"
     },
     "metadata": {},
     "execution_count": 39
    }
   ],
   "source": [
    "travel_data.head()"
   ]
  },
  {
   "cell_type": "code",
   "execution_count": 40,
   "metadata": {},
   "outputs": [],
   "source": [
    "travel_data.to_csv('./travel_inj_stats.csv', encoding='utf-8',\n",
    "              index=False, sep='|', header=True)"
   ]
  },
  {
   "cell_type": "code",
   "execution_count": null,
   "metadata": {},
   "outputs": [],
   "source": []
  }
 ]
}