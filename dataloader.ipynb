{
 "metadata": {
  "language_info": {
   "codemirror_mode": {
    "name": "ipython",
    "version": 3
   },
   "file_extension": ".py",
   "mimetype": "text/x-python",
   "name": "python",
   "nbconvert_exporter": "python",
   "pygments_lexer": "ipython3",
   "version": "3.8.7-final"
  },
  "orig_nbformat": 2,
  "kernelspec": {
   "name": "python3",
   "display_name": "Python 3.8.7 64-bit",
   "metadata": {
    "interpreter": {
     "hash": "7e85ec9bf098c5427e45e2f632dcd4eeff803b007e1abd287d600879388709c1"
    }
   }
  }
 },
 "nbformat": 4,
 "nbformat_minor": 2,
 "cells": [
  {
   "cell_type": "code",
   "execution_count": 78,
   "metadata": {
    "tags": []
   },
   "outputs": [],
   "source": [
    "from bs4 import BeautifulSoup\n",
    "from selenium import webdriver\n",
    "from selenium.webdriver.support.ui import Select\n",
    "import time\n",
    "import pandas as pd\n",
    "\n",
    "#install geckodriver\n",
    "#https://stackoverflow.com/questions/40208051/selenium-using-python-geckodriver-executable-needs-to-be-in-path"
   ]
  },
  {
   "cell_type": "code",
   "execution_count": 190,
   "metadata": {},
   "outputs": [],
   "source": [
    "def getNbaData(nba_urls: list):\n",
    "    nba_data_list = list(map(lambda x: webScraper(x), nba_urls))\n",
    "    data = dataProcessor(nba_data_list)\n",
    "    fin = []\n",
    "    for l in data:\n",
    "        for sub_l in l:\n",
    "            fin.append(sub_l)\n",
    "    df = pd.DataFrame(data=fin, columns=['Season',\n",
    "                                          'PlayerTeam',\n",
    "                                          'GP',\n",
    "                                          'W',\n",
    "                                          'L',\n",
    "                                          'Min',\n",
    "                                          'DistFeet',\n",
    "                                          'DistMiles',\n",
    "                                          'DistMilesOff',\n",
    "                                          'DistMilesDef',\n",
    "                                          'AvgSpeed',\n",
    "                                          'AvgSpeedOff',\n",
    "                                          'AvgSpeedDef'])\n",
    "    df.to_csv('./nba_stats.csv', encoding='utf-8',\n",
    "              index=False, sep='|', header=True)\n",
    "    return\n",
    "\n",
    "\n",
    "def webScraper(url):\n",
    "    print(url)\n",
    "    # initialize web driver\n",
    "    browser = webdriver.Firefox()\n",
    "\n",
    "    # load the webpage\n",
    "    browser.get(url)\n",
    "    time.sleep(10)\n",
    "\n",
    "    # modify webpage to all data\n",
    "    select = Select(browser.find_element_by_class_name('stats-table-pagination__select'))\n",
    "    select.select_by_visible_text('All')\n",
    "\n",
    "    # return table section\n",
    "    html = browser.page_source\n",
    "    soup = BeautifulSoup(html, 'lxml')\n",
    "    table = (soup.find('table', class_='table'))\n",
    "    return table, str(url.split('https://www.nba.com/stats/players/speed-distance/?Season=')[1])[0:7]\n",
    "\n",
    "\n",
    "def dataProcessor(data_list):\n",
    "\n",
    "    def processingHelper(data_):\n",
    "        data = data_[0]\n",
    "        season = data_[1]\n",
    "        #print(data)\n",
    "        cnt = 0\n",
    "        year_data = []\n",
    "        for i in list(str(data).split('<td class=\"player\">')):\n",
    "            cnt += 1\n",
    "            if cnt == 1:\n",
    "                continue\n",
    "            else:\n",
    "                name = str(i).split('Regular Season\">')[1].replace('</a>', '')\n",
    "                try:\n",
    "                    name = str(' '.join(name.split(' ')[0:2]).split('<')[0]).strip('\\n')\n",
    "                except TypeError:\n",
    "                    name = 'Unknown'\n",
    "                iter_ = str(i).split('</td>')\n",
    "                part_list = []\n",
    "                if name == 'Unknown':\n",
    "                    pass\n",
    "                else:\n",
    "                    for td in range(len(iter_)):\n",
    "                        part_list.append(float(iter_[td][5:])) if ('-' not in iter_[td] and td not in [0, 1] and '</tr>' not in iter_[td] and len(iter_[td][5:])>0) else(\n",
    "                            part_list.append(float(0)) if ('-' in iter_[td] and td not in [0, 1] and '</tr>' not in iter_[td] and len(iter_[td][5:])>0) else (\n",
    "                                part_list.append(float(0)) if (td not in [0, 1] and '</tr>' not in iter_[td] and len(iter_[td][5:])==0) else None))\n",
    "                    final_list = [season,name]\n",
    "                    final_list.extend(part_list)\n",
    "                    year_data.append(final_list)\n",
    "        return year_data\n",
    "\n",
    "    f_list = list(map(lambda x: processingHelper(x), data_list))\n",
    "    output = f_list\n",
    "    return output"
   ]
  },
  {
   "cell_type": "code",
   "execution_count": 179,
   "metadata": {},
   "outputs": [
    {
     "output_type": "stream",
     "name": "stdout",
     "text": [
      "https://www.nba.com/stats/players/speed-distance/?Season=2020-21&SeasonType=Regular%20Season\n",
      "2020-21\n",
      "https://www.nba.com/stats/players/speed-distance/?Season=2019-20&SeasonType=Regular%20Season\n",
      "2019-20\n",
      "https://www.nba.com/stats/players/speed-distance/?Season=2018-19&SeasonType=Regular%20Season\n",
      "2018-19\n",
      "https://www.nba.com/stats/players/speed-distance/?Season=2017-18&SeasonType=Regular%20Season\n",
      "2017-18\n",
      "https://www.nba.com/stats/players/speed-distance/?Season=2016-17&SeasonType=Regular%20Season\n",
      "2016-17\n",
      "https://www.nba.com/stats/players/speed-distance/?Season=2015-16&SeasonType=Regular%20Season\n",
      "2015-16\n",
      "https://www.nba.com/stats/players/speed-distance/?Season=2014-15&SeasonType=Regular%20Season\n",
      "2014-15\n",
      "https://www.nba.com/stats/players/speed-distance/?Season=2013-14&SeasonType=Regular%20Season\n",
      "2013-14\n"
     ]
    }
   ],
   "source": [
    "nba_urls = [\n",
    "    'https://www.nba.com/stats/players/speed-distance/?Season=2020-21&SeasonType=Regular%20Season',\n",
    "    'https://www.nba.com/stats/players/speed-distance/?Season=2019-20&SeasonType=Regular%20Season',\n",
    "    'https://www.nba.com/stats/players/speed-distance/?Season=2018-19&SeasonType=Regular%20Season',\n",
    "    'https://www.nba.com/stats/players/speed-distance/?Season=2017-18&SeasonType=Regular%20Season',\n",
    "    'https://www.nba.com/stats/players/speed-distance/?Season=2016-17&SeasonType=Regular%20Season',\n",
    "    'https://www.nba.com/stats/players/speed-distance/?Season=2015-16&SeasonType=Regular%20Season',\n",
    "    'https://www.nba.com/stats/players/speed-distance/?Season=2014-15&SeasonType=Regular%20Season',\n",
    "    'https://www.nba.com/stats/players/speed-distance/?Season=2013-14&SeasonType=Regular%20Season'\n",
    "]\n",
    "\n",
    "\n",
    "getNbaData(nba_urls=nba_urls)"
   ]
  },
  {
   "cell_type": "code",
   "execution_count": null,
   "metadata": {},
   "outputs": [],
   "source": []
  }
 ]
}